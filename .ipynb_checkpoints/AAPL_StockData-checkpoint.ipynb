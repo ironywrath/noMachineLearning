{
 "cells": [
  {
   "cell_type": "code",
   "execution_count": 15,
   "metadata": {},
   "outputs": [],
   "source": [
    "import pandas as pd\n",
    "import numpy as np\n",
    "from pandas_datareader import data, wb\n",
    "import matplotlib.pyplot as plt\n",
    "import CH7_StockData as ch7s\n",
    "\n",
    "%matplotlib inline\n",
    "pd.set_option('display.max_colwidth', 200)"
   ]
  },
  {
   "cell_type": "code",
   "execution_count": 16,
   "metadata": {},
   "outputs": [
    {
     "data": {
      "text/html": [
       "<div>\n",
       "<style scoped>\n",
       "    .dataframe tbody tr th:only-of-type {\n",
       "        vertical-align: middle;\n",
       "    }\n",
       "\n",
       "    .dataframe tbody tr th {\n",
       "        vertical-align: top;\n",
       "    }\n",
       "\n",
       "    .dataframe thead th {\n",
       "        text-align: right;\n",
       "    }\n",
       "</style>\n",
       "<table border=\"1\" class=\"dataframe\">\n",
       "  <thead>\n",
       "    <tr style=\"text-align: right;\">\n",
       "      <th></th>\n",
       "      <th>High</th>\n",
       "      <th>Low</th>\n",
       "      <th>Open</th>\n",
       "      <th>Close</th>\n",
       "      <th>Volume</th>\n",
       "      <th>Adj Close</th>\n",
       "    </tr>\n",
       "    <tr>\n",
       "      <th>Date</th>\n",
       "      <th></th>\n",
       "      <th></th>\n",
       "      <th></th>\n",
       "      <th></th>\n",
       "      <th></th>\n",
       "      <th></th>\n",
       "    </tr>\n",
       "  </thead>\n",
       "  <tbody>\n",
       "    <tr>\n",
       "      <th>2018-10-09</th>\n",
       "      <td>227.270004</td>\n",
       "      <td>222.250000</td>\n",
       "      <td>223.639999</td>\n",
       "      <td>226.869995</td>\n",
       "      <td>26891000.0</td>\n",
       "      <td>226.081161</td>\n",
       "    </tr>\n",
       "    <tr>\n",
       "      <th>2018-10-10</th>\n",
       "      <td>226.350006</td>\n",
       "      <td>216.050003</td>\n",
       "      <td>225.460007</td>\n",
       "      <td>216.360001</td>\n",
       "      <td>41990600.0</td>\n",
       "      <td>215.607712</td>\n",
       "    </tr>\n",
       "    <tr>\n",
       "      <th>2018-10-11</th>\n",
       "      <td>219.500000</td>\n",
       "      <td>212.320007</td>\n",
       "      <td>214.520004</td>\n",
       "      <td>214.449997</td>\n",
       "      <td>53124400.0</td>\n",
       "      <td>213.704346</td>\n",
       "    </tr>\n",
       "    <tr>\n",
       "      <th>2018-10-12</th>\n",
       "      <td>222.880005</td>\n",
       "      <td>216.839996</td>\n",
       "      <td>220.419998</td>\n",
       "      <td>222.110001</td>\n",
       "      <td>40337900.0</td>\n",
       "      <td>221.337723</td>\n",
       "    </tr>\n",
       "    <tr>\n",
       "      <th>2018-10-15</th>\n",
       "      <td>221.830002</td>\n",
       "      <td>217.270004</td>\n",
       "      <td>221.160004</td>\n",
       "      <td>217.360001</td>\n",
       "      <td>30791000.0</td>\n",
       "      <td>216.604233</td>\n",
       "    </tr>\n",
       "    <tr>\n",
       "      <th>2018-10-16</th>\n",
       "      <td>222.990005</td>\n",
       "      <td>216.759995</td>\n",
       "      <td>218.929993</td>\n",
       "      <td>222.149994</td>\n",
       "      <td>29184000.0</td>\n",
       "      <td>221.377563</td>\n",
       "    </tr>\n",
       "    <tr>\n",
       "      <th>2018-10-17</th>\n",
       "      <td>222.639999</td>\n",
       "      <td>219.339996</td>\n",
       "      <td>222.300003</td>\n",
       "      <td>221.190002</td>\n",
       "      <td>22885400.0</td>\n",
       "      <td>220.420914</td>\n",
       "    </tr>\n",
       "    <tr>\n",
       "      <th>2018-10-18</th>\n",
       "      <td>219.740005</td>\n",
       "      <td>213.000000</td>\n",
       "      <td>217.860001</td>\n",
       "      <td>216.020004</td>\n",
       "      <td>32581300.0</td>\n",
       "      <td>215.268890</td>\n",
       "    </tr>\n",
       "    <tr>\n",
       "      <th>2018-10-19</th>\n",
       "      <td>221.259995</td>\n",
       "      <td>217.429993</td>\n",
       "      <td>218.059998</td>\n",
       "      <td>219.309998</td>\n",
       "      <td>33078700.0</td>\n",
       "      <td>218.547455</td>\n",
       "    </tr>\n",
       "    <tr>\n",
       "      <th>2018-10-22</th>\n",
       "      <td>223.360001</td>\n",
       "      <td>218.940002</td>\n",
       "      <td>219.789993</td>\n",
       "      <td>220.649994</td>\n",
       "      <td>28792100.0</td>\n",
       "      <td>219.882782</td>\n",
       "    </tr>\n",
       "    <tr>\n",
       "      <th>2018-10-23</th>\n",
       "      <td>223.250000</td>\n",
       "      <td>214.699997</td>\n",
       "      <td>215.830002</td>\n",
       "      <td>222.729996</td>\n",
       "      <td>38767800.0</td>\n",
       "      <td>221.955551</td>\n",
       "    </tr>\n",
       "    <tr>\n",
       "      <th>2018-10-24</th>\n",
       "      <td>224.229996</td>\n",
       "      <td>214.539993</td>\n",
       "      <td>222.600006</td>\n",
       "      <td>215.089996</td>\n",
       "      <td>40925500.0</td>\n",
       "      <td>214.342117</td>\n",
       "    </tr>\n",
       "    <tr>\n",
       "      <th>2018-10-25</th>\n",
       "      <td>221.380005</td>\n",
       "      <td>216.750000</td>\n",
       "      <td>217.710007</td>\n",
       "      <td>219.800003</td>\n",
       "      <td>29855800.0</td>\n",
       "      <td>219.035751</td>\n",
       "    </tr>\n",
       "    <tr>\n",
       "      <th>2018-10-26</th>\n",
       "      <td>220.190002</td>\n",
       "      <td>212.669998</td>\n",
       "      <td>215.899994</td>\n",
       "      <td>216.300003</td>\n",
       "      <td>47258400.0</td>\n",
       "      <td>215.547913</td>\n",
       "    </tr>\n",
       "    <tr>\n",
       "      <th>2018-10-29</th>\n",
       "      <td>219.690002</td>\n",
       "      <td>206.089996</td>\n",
       "      <td>219.190002</td>\n",
       "      <td>212.240005</td>\n",
       "      <td>45935500.0</td>\n",
       "      <td>211.502045</td>\n",
       "    </tr>\n",
       "    <tr>\n",
       "      <th>2018-10-30</th>\n",
       "      <td>215.179993</td>\n",
       "      <td>209.270004</td>\n",
       "      <td>211.149994</td>\n",
       "      <td>213.300003</td>\n",
       "      <td>36660000.0</td>\n",
       "      <td>212.558350</td>\n",
       "    </tr>\n",
       "    <tr>\n",
       "      <th>2018-10-31</th>\n",
       "      <td>220.449997</td>\n",
       "      <td>216.619995</td>\n",
       "      <td>216.880005</td>\n",
       "      <td>218.860001</td>\n",
       "      <td>38358900.0</td>\n",
       "      <td>218.099014</td>\n",
       "    </tr>\n",
       "    <tr>\n",
       "      <th>2018-11-01</th>\n",
       "      <td>222.360001</td>\n",
       "      <td>216.809998</td>\n",
       "      <td>219.050003</td>\n",
       "      <td>222.220001</td>\n",
       "      <td>58323200.0</td>\n",
       "      <td>221.447327</td>\n",
       "    </tr>\n",
       "    <tr>\n",
       "      <th>2018-11-02</th>\n",
       "      <td>213.649994</td>\n",
       "      <td>205.429993</td>\n",
       "      <td>209.550003</td>\n",
       "      <td>207.479996</td>\n",
       "      <td>91328700.0</td>\n",
       "      <td>206.758575</td>\n",
       "    </tr>\n",
       "    <tr>\n",
       "      <th>2018-11-05</th>\n",
       "      <td>204.389999</td>\n",
       "      <td>198.169998</td>\n",
       "      <td>204.300003</td>\n",
       "      <td>201.589996</td>\n",
       "      <td>66163700.0</td>\n",
       "      <td>200.889053</td>\n",
       "    </tr>\n",
       "    <tr>\n",
       "      <th>2018-11-06</th>\n",
       "      <td>204.720001</td>\n",
       "      <td>201.690002</td>\n",
       "      <td>201.919998</td>\n",
       "      <td>203.770004</td>\n",
       "      <td>31882900.0</td>\n",
       "      <td>203.061493</td>\n",
       "    </tr>\n",
       "    <tr>\n",
       "      <th>2018-11-07</th>\n",
       "      <td>210.059998</td>\n",
       "      <td>204.130005</td>\n",
       "      <td>205.970001</td>\n",
       "      <td>209.949997</td>\n",
       "      <td>33424400.0</td>\n",
       "      <td>209.219986</td>\n",
       "    </tr>\n",
       "    <tr>\n",
       "      <th>2018-11-08</th>\n",
       "      <td>210.119995</td>\n",
       "      <td>206.750000</td>\n",
       "      <td>209.979996</td>\n",
       "      <td>208.490005</td>\n",
       "      <td>25362600.0</td>\n",
       "      <td>208.490005</td>\n",
       "    </tr>\n",
       "    <tr>\n",
       "      <th>2018-11-09</th>\n",
       "      <td>206.009995</td>\n",
       "      <td>202.250000</td>\n",
       "      <td>205.550003</td>\n",
       "      <td>204.470001</td>\n",
       "      <td>34365800.0</td>\n",
       "      <td>204.470001</td>\n",
       "    </tr>\n",
       "    <tr>\n",
       "      <th>2018-11-12</th>\n",
       "      <td>199.850006</td>\n",
       "      <td>193.789993</td>\n",
       "      <td>199.000000</td>\n",
       "      <td>194.169998</td>\n",
       "      <td>51135500.0</td>\n",
       "      <td>194.169998</td>\n",
       "    </tr>\n",
       "    <tr>\n",
       "      <th>2018-11-13</th>\n",
       "      <td>197.179993</td>\n",
       "      <td>191.449997</td>\n",
       "      <td>191.630005</td>\n",
       "      <td>192.229996</td>\n",
       "      <td>46882900.0</td>\n",
       "      <td>192.229996</td>\n",
       "    </tr>\n",
       "    <tr>\n",
       "      <th>2018-11-14</th>\n",
       "      <td>194.479996</td>\n",
       "      <td>185.929993</td>\n",
       "      <td>193.899994</td>\n",
       "      <td>186.800003</td>\n",
       "      <td>60801000.0</td>\n",
       "      <td>186.800003</td>\n",
       "    </tr>\n",
       "    <tr>\n",
       "      <th>2018-11-15</th>\n",
       "      <td>191.970001</td>\n",
       "      <td>186.899994</td>\n",
       "      <td>188.389999</td>\n",
       "      <td>191.410004</td>\n",
       "      <td>46478800.0</td>\n",
       "      <td>191.410004</td>\n",
       "    </tr>\n",
       "    <tr>\n",
       "      <th>2018-11-16</th>\n",
       "      <td>194.970001</td>\n",
       "      <td>189.460007</td>\n",
       "      <td>190.500000</td>\n",
       "      <td>193.529999</td>\n",
       "      <td>36928300.0</td>\n",
       "      <td>193.529999</td>\n",
       "    </tr>\n",
       "    <tr>\n",
       "      <th>2018-11-19</th>\n",
       "      <td>190.699997</td>\n",
       "      <td>184.990005</td>\n",
       "      <td>190.000000</td>\n",
       "      <td>185.860001</td>\n",
       "      <td>41925300.0</td>\n",
       "      <td>185.860001</td>\n",
       "    </tr>\n",
       "    <tr>\n",
       "      <th>2018-11-20</th>\n",
       "      <td>181.470001</td>\n",
       "      <td>175.509995</td>\n",
       "      <td>178.369995</td>\n",
       "      <td>176.979996</td>\n",
       "      <td>67825200.0</td>\n",
       "      <td>176.979996</td>\n",
       "    </tr>\n",
       "    <tr>\n",
       "      <th>2018-11-21</th>\n",
       "      <td>180.270004</td>\n",
       "      <td>176.550003</td>\n",
       "      <td>179.729996</td>\n",
       "      <td>176.779999</td>\n",
       "      <td>31124200.0</td>\n",
       "      <td>176.779999</td>\n",
       "    </tr>\n",
       "    <tr>\n",
       "      <th>2018-11-23</th>\n",
       "      <td>176.600006</td>\n",
       "      <td>172.100006</td>\n",
       "      <td>174.940002</td>\n",
       "      <td>172.289993</td>\n",
       "      <td>23624000.0</td>\n",
       "      <td>172.289993</td>\n",
       "    </tr>\n",
       "    <tr>\n",
       "      <th>2018-11-26</th>\n",
       "      <td>174.949997</td>\n",
       "      <td>170.259995</td>\n",
       "      <td>174.240005</td>\n",
       "      <td>174.619995</td>\n",
       "      <td>44998500.0</td>\n",
       "      <td>174.619995</td>\n",
       "    </tr>\n",
       "    <tr>\n",
       "      <th>2018-11-27</th>\n",
       "      <td>174.770004</td>\n",
       "      <td>170.880005</td>\n",
       "      <td>171.509995</td>\n",
       "      <td>174.240005</td>\n",
       "      <td>41387400.0</td>\n",
       "      <td>174.240005</td>\n",
       "    </tr>\n",
       "    <tr>\n",
       "      <th>2018-11-28</th>\n",
       "      <td>181.289993</td>\n",
       "      <td>174.929993</td>\n",
       "      <td>176.729996</td>\n",
       "      <td>180.940002</td>\n",
       "      <td>46062500.0</td>\n",
       "      <td>180.940002</td>\n",
       "    </tr>\n",
       "    <tr>\n",
       "      <th>2018-11-29</th>\n",
       "      <td>182.800003</td>\n",
       "      <td>177.699997</td>\n",
       "      <td>182.660004</td>\n",
       "      <td>179.550003</td>\n",
       "      <td>41770000.0</td>\n",
       "      <td>179.550003</td>\n",
       "    </tr>\n",
       "    <tr>\n",
       "      <th>2018-11-30</th>\n",
       "      <td>180.330002</td>\n",
       "      <td>177.029999</td>\n",
       "      <td>180.289993</td>\n",
       "      <td>178.580002</td>\n",
       "      <td>39531500.0</td>\n",
       "      <td>178.580002</td>\n",
       "    </tr>\n",
       "    <tr>\n",
       "      <th>2018-12-03</th>\n",
       "      <td>184.940002</td>\n",
       "      <td>181.210007</td>\n",
       "      <td>184.460007</td>\n",
       "      <td>184.820007</td>\n",
       "      <td>40802500.0</td>\n",
       "      <td>184.820007</td>\n",
       "    </tr>\n",
       "    <tr>\n",
       "      <th>2018-12-04</th>\n",
       "      <td>182.389999</td>\n",
       "      <td>176.270004</td>\n",
       "      <td>180.949997</td>\n",
       "      <td>176.690002</td>\n",
       "      <td>41344300.0</td>\n",
       "      <td>176.690002</td>\n",
       "    </tr>\n",
       "    <tr>\n",
       "      <th>2018-12-06</th>\n",
       "      <td>174.779999</td>\n",
       "      <td>170.419998</td>\n",
       "      <td>171.759995</td>\n",
       "      <td>174.720001</td>\n",
       "      <td>43098400.0</td>\n",
       "      <td>174.720001</td>\n",
       "    </tr>\n",
       "    <tr>\n",
       "      <th>2018-12-07</th>\n",
       "      <td>174.490005</td>\n",
       "      <td>168.300003</td>\n",
       "      <td>173.490005</td>\n",
       "      <td>168.490005</td>\n",
       "      <td>41695700.0</td>\n",
       "      <td>168.490005</td>\n",
       "    </tr>\n",
       "  </tbody>\n",
       "</table>\n",
       "</div>"
      ],
      "text/plain": [
       "                  High         Low        Open       Close      Volume  \\\n",
       "Date                                                                     \n",
       "2018-10-09  227.270004  222.250000  223.639999  226.869995  26891000.0   \n",
       "2018-10-10  226.350006  216.050003  225.460007  216.360001  41990600.0   \n",
       "2018-10-11  219.500000  212.320007  214.520004  214.449997  53124400.0   \n",
       "2018-10-12  222.880005  216.839996  220.419998  222.110001  40337900.0   \n",
       "2018-10-15  221.830002  217.270004  221.160004  217.360001  30791000.0   \n",
       "2018-10-16  222.990005  216.759995  218.929993  222.149994  29184000.0   \n",
       "2018-10-17  222.639999  219.339996  222.300003  221.190002  22885400.0   \n",
       "2018-10-18  219.740005  213.000000  217.860001  216.020004  32581300.0   \n",
       "2018-10-19  221.259995  217.429993  218.059998  219.309998  33078700.0   \n",
       "2018-10-22  223.360001  218.940002  219.789993  220.649994  28792100.0   \n",
       "2018-10-23  223.250000  214.699997  215.830002  222.729996  38767800.0   \n",
       "2018-10-24  224.229996  214.539993  222.600006  215.089996  40925500.0   \n",
       "2018-10-25  221.380005  216.750000  217.710007  219.800003  29855800.0   \n",
       "2018-10-26  220.190002  212.669998  215.899994  216.300003  47258400.0   \n",
       "2018-10-29  219.690002  206.089996  219.190002  212.240005  45935500.0   \n",
       "2018-10-30  215.179993  209.270004  211.149994  213.300003  36660000.0   \n",
       "2018-10-31  220.449997  216.619995  216.880005  218.860001  38358900.0   \n",
       "2018-11-01  222.360001  216.809998  219.050003  222.220001  58323200.0   \n",
       "2018-11-02  213.649994  205.429993  209.550003  207.479996  91328700.0   \n",
       "2018-11-05  204.389999  198.169998  204.300003  201.589996  66163700.0   \n",
       "2018-11-06  204.720001  201.690002  201.919998  203.770004  31882900.0   \n",
       "2018-11-07  210.059998  204.130005  205.970001  209.949997  33424400.0   \n",
       "2018-11-08  210.119995  206.750000  209.979996  208.490005  25362600.0   \n",
       "2018-11-09  206.009995  202.250000  205.550003  204.470001  34365800.0   \n",
       "2018-11-12  199.850006  193.789993  199.000000  194.169998  51135500.0   \n",
       "2018-11-13  197.179993  191.449997  191.630005  192.229996  46882900.0   \n",
       "2018-11-14  194.479996  185.929993  193.899994  186.800003  60801000.0   \n",
       "2018-11-15  191.970001  186.899994  188.389999  191.410004  46478800.0   \n",
       "2018-11-16  194.970001  189.460007  190.500000  193.529999  36928300.0   \n",
       "2018-11-19  190.699997  184.990005  190.000000  185.860001  41925300.0   \n",
       "2018-11-20  181.470001  175.509995  178.369995  176.979996  67825200.0   \n",
       "2018-11-21  180.270004  176.550003  179.729996  176.779999  31124200.0   \n",
       "2018-11-23  176.600006  172.100006  174.940002  172.289993  23624000.0   \n",
       "2018-11-26  174.949997  170.259995  174.240005  174.619995  44998500.0   \n",
       "2018-11-27  174.770004  170.880005  171.509995  174.240005  41387400.0   \n",
       "2018-11-28  181.289993  174.929993  176.729996  180.940002  46062500.0   \n",
       "2018-11-29  182.800003  177.699997  182.660004  179.550003  41770000.0   \n",
       "2018-11-30  180.330002  177.029999  180.289993  178.580002  39531500.0   \n",
       "2018-12-03  184.940002  181.210007  184.460007  184.820007  40802500.0   \n",
       "2018-12-04  182.389999  176.270004  180.949997  176.690002  41344300.0   \n",
       "2018-12-06  174.779999  170.419998  171.759995  174.720001  43098400.0   \n",
       "2018-12-07  174.490005  168.300003  173.490005  168.490005  41695700.0   \n",
       "\n",
       "             Adj Close  \n",
       "Date                    \n",
       "2018-10-09  226.081161  \n",
       "2018-10-10  215.607712  \n",
       "2018-10-11  213.704346  \n",
       "2018-10-12  221.337723  \n",
       "2018-10-15  216.604233  \n",
       "2018-10-16  221.377563  \n",
       "2018-10-17  220.420914  \n",
       "2018-10-18  215.268890  \n",
       "2018-10-19  218.547455  \n",
       "2018-10-22  219.882782  \n",
       "2018-10-23  221.955551  \n",
       "2018-10-24  214.342117  \n",
       "2018-10-25  219.035751  \n",
       "2018-10-26  215.547913  \n",
       "2018-10-29  211.502045  \n",
       "2018-10-30  212.558350  \n",
       "2018-10-31  218.099014  \n",
       "2018-11-01  221.447327  \n",
       "2018-11-02  206.758575  \n",
       "2018-11-05  200.889053  \n",
       "2018-11-06  203.061493  \n",
       "2018-11-07  209.219986  \n",
       "2018-11-08  208.490005  \n",
       "2018-11-09  204.470001  \n",
       "2018-11-12  194.169998  \n",
       "2018-11-13  192.229996  \n",
       "2018-11-14  186.800003  \n",
       "2018-11-15  191.410004  \n",
       "2018-11-16  193.529999  \n",
       "2018-11-19  185.860001  \n",
       "2018-11-20  176.979996  \n",
       "2018-11-21  176.779999  \n",
       "2018-11-23  172.289993  \n",
       "2018-11-26  174.619995  \n",
       "2018-11-27  174.240005  \n",
       "2018-11-28  180.940002  \n",
       "2018-11-29  179.550003  \n",
       "2018-11-30  178.580002  \n",
       "2018-12-03  184.820007  \n",
       "2018-12-04  176.690002  \n",
       "2018-12-06  174.720001  \n",
       "2018-12-07  168.490005  "
      ]
     },
     "execution_count": 16,
     "metadata": {},
     "output_type": "execute_result"
    }
   ],
   "source": [
    "import pandas_datareader as pdr\n",
    "\n",
    "start_date = pd.to_datetime('2018-10-09')\n",
    "stop_date = pd.to_datetime('2018-12-09')\n",
    "\n",
    "aapl = ch7s.read_stock_data('AAPL', start_date, stop_date)\n",
    "\n",
    "aapl"
   ]
  },
  {
   "cell_type": "code",
   "execution_count": 17,
   "metadata": {},
   "outputs": [],
   "source": [
    "aapl_c = aapl['Close']"
   ]
  },
  {
   "cell_type": "code",
   "execution_count": 18,
   "metadata": {},
   "outputs": [
    {
     "data": {
      "text/plain": [
       "Text(0.5,1,'AAPL')"
      ]
     },
     "execution_count": 18,
     "metadata": {},
     "output_type": "execute_result"
    },
    {
     "data": {
      "image/png": "[encoded data removed]",
      "text/plain": [
       "<Figure size 1080x720 with 1 Axes>"
      ]
     },
     "metadata": {
      "needs_background": "light"
     },
     "output_type": "display_data"
    }
   ],
   "source": [
    "fig, ax = plt.subplots(figsize=(15,10))\n",
    "aapl_c.plot(color='k')\n",
    "plt.title('AAPL', fontsize=20)"
   ]
  },
  {
   "cell_type": "code",
   "execution_count": 19,
   "metadata": {},
   "outputs": [
    {
     "data": {
      "text/plain": [
       "223.63999938964844"
      ]
     },
     "execution_count": 19,
     "metadata": {},
     "output_type": "execute_result"
    }
   ],
   "source": [
    "first_open = aapl['Open'].iloc[0]\n",
    "first_open"
   ]
  },
  {
   "cell_type": "code",
   "execution_count": 20,
   "metadata": {},
   "outputs": [
    {
     "data": {
      "text/plain": [
       "168.49000549316406"
      ]
     },
     "execution_count": 20,
     "metadata": {},
     "output_type": "execute_result"
    }
   ],
   "source": [
    "last_close = aapl['Close'].iloc[-1]\n",
    "last_close"
   ]
  },
  {
   "cell_type": "code",
   "execution_count": 21,
   "metadata": {},
   "outputs": [
    {
     "data": {
      "text/plain": [
       "-55.149993896484375"
      ]
     },
     "execution_count": 21,
     "metadata": {},
     "output_type": "execute_result"
    }
   ],
   "source": [
    "last_close - first_open"
   ]
  },
  {
   "cell_type": "code",
   "execution_count": 22,
   "metadata": {},
   "outputs": [],
   "source": [
    "aapl['Daily Change'] = pd.Series(aapl['Close'] - aapl['Open'])"
   ]
  },
  {
   "cell_type": "code",
   "execution_count": 23,
   "metadata": {},
   "outputs": [
    {
     "data": {
      "text/plain": [
       "-24.80999755859375"
      ]
     },
     "execution_count": 23,
     "metadata": {},
     "output_type": "execute_result"
    }
   ],
   "source": [
    "aapl['Daily Change'].sum()"
   ]
  },
  {
   "cell_type": "code",
   "execution_count": 24,
   "metadata": {},
   "outputs": [],
   "source": [
    "aapl['Overnight Change'] = pd.Series(aapl['Open'] - aapl['Close'].shift(1))"
   ]
  },
  {
   "cell_type": "code",
   "execution_count": 25,
   "metadata": {},
   "outputs": [
    {
     "data": {
      "text/plain": [
       "-30.339996337890625"
      ]
     },
     "execution_count": 25,
     "metadata": {},
     "output_type": "execute_result"
    }
   ],
   "source": [
    "aapl['Overnight Change'].sum()"
   ]
  },
  {
   "cell_type": "code",
   "execution_count": 26,
   "metadata": {},
   "outputs": [
    {
     "data": {
      "text/plain": [
       "3.5267671382241526"
      ]
     },
     "execution_count": 26,
     "metadata": {},
     "output_type": "execute_result"
    }
   ],
   "source": [
    "np.std(aapl['Overnight Change'])"
   ]
  },
  {
   "cell_type": "code",
   "execution_count": 27,
   "metadata": {},
   "outputs": [
    {
     "data": {
      "text/plain": [
       "-3.565238589332217"
      ]
     },
     "execution_count": 27,
     "metadata": {},
     "output_type": "execute_result"
    }
   ],
   "source": [
    "aapl[aapl['Daily Change']<0]['Daily Change'].mean()"
   ]
  },
  {
   "cell_type": "code",
   "execution_count": 28,
   "metadata": {},
   "outputs": [
    {
     "data": {
      "text/plain": [
       "-3.389523460751488"
      ]
     },
     "execution_count": 28,
     "metadata": {},
     "output_type": "execute_result"
    }
   ],
   "source": [
    "aapl[aapl['Overnight Change']<0]['Overnight Change'].mean()"
   ]
  },
  {
   "cell_type": "code",
   "execution_count": 29,
   "metadata": {},
   "outputs": [
    {
     "data": {
      "text/plain": [
       "Date\n",
       "2018-10-09         NaN\n",
       "2018-10-10   -4.632607\n",
       "2018-10-11   -0.882790\n",
       "2018-10-12    3.571930\n",
       "2018-10-15   -2.138580\n",
       "2018-10-16    2.203714\n",
       "2018-10-17   -0.432137\n",
       "2018-10-18   -2.337356\n",
       "2018-10-19    1.523004\n",
       "2018-10-22    0.611006\n",
       "2018-10-23    0.942670\n",
       "2018-10-24   -3.430162\n",
       "2018-10-25    2.189784\n",
       "2018-10-26   -1.592357\n",
       "2018-10-29   -1.877021\n",
       "2018-10-30    0.499433\n",
       "2018-10-31    2.606656\n",
       "2018-11-01    1.535228\n",
       "2018-11-02   -6.633069\n",
       "2018-11-05   -2.838828\n",
       "2018-11-06    1.081407\n",
       "2018-11-07    3.032827\n",
       "2018-11-08   -0.695400\n",
       "2018-11-09   -1.928152\n",
       "2018-11-12   -5.037415\n",
       "2018-11-13   -0.999126\n",
       "2018-11-14   -2.824737\n",
       "2018-11-15    2.467880\n",
       "2018-11-16    1.107568\n",
       "2018-11-19   -3.963209\n",
       "2018-11-20   -4.777792\n",
       "2018-11-21   -0.113005\n",
       "2018-11-23   -2.539883\n",
       "2018-11-26    1.352372\n",
       "2018-11-27   -0.217609\n",
       "2018-11-28    3.845269\n",
       "2018-11-29   -0.768210\n",
       "2018-11-30   -0.540240\n",
       "2018-12-03    3.494235\n",
       "2018-12-04   -4.398877\n",
       "2018-12-06   -1.114948\n",
       "2018-12-07   -3.565703\n",
       "Name: Close, dtype: float64"
      ]
     },
     "execution_count": 29,
     "metadata": {},
     "output_type": "execute_result"
    }
   ],
   "source": [
    "daily_rtn = ((aapl['Close'] - aapl['Close'].shift(1))/aapl['Close'].shift(1))*100\n",
    "daily_rtn"
   ]
  },
  {
   "cell_type": "code",
   "execution_count": 30,
   "metadata": {},
   "outputs": [
    {
     "data": {
      "text/plain": [
       "<matplotlib.axes._subplots.AxesSubplot at 0x1fd7ad8e710>"
      ]
     },
     "execution_count": 30,
     "metadata": {},
     "output_type": "execute_result"
    },
    {
     "data": {
      "image/png": "[encoded data removed]",
      "text/plain": [
       "<Figure size 864x576 with 1 Axes>"
      ]
     },
     "metadata": {
      "needs_background": "light"
     },
     "output_type": "display_data"
    }
   ],
   "source": [
    "daily_rtn.hist(color='lightblue', figsize=(12,8))"
   ]
  },
  {
   "cell_type": "code",
   "execution_count": 32,
   "metadata": {},
   "outputs": [
    {
     "data": {
      "text/plain": [
       "Date\n",
       "2018-10-09    1.444284\n",
       "2018-10-10   -4.036195\n",
       "2018-10-11   -0.032634\n",
       "2018-10-12    0.766719\n",
       "2018-10-15   -1.718214\n",
       "2018-10-16    1.470790\n",
       "2018-10-17   -0.499326\n",
       "2018-10-18   -0.844577\n",
       "2018-10-19    0.573237\n",
       "2018-10-22    0.391283\n",
       "2018-10-23    3.196958\n",
       "2018-10-24   -3.373769\n",
       "2018-10-25    0.959991\n",
       "2018-10-26    0.185275\n",
       "2018-10-29   -3.170764\n",
       "2018-10-30    1.018238\n",
       "2018-10-31    0.912945\n",
       "2018-11-01    1.447157\n",
       "2018-11-02   -0.987835\n",
       "2018-11-05   -1.326484\n",
       "2018-11-06    0.916207\n",
       "2018-11-07    1.932318\n",
       "2018-11-08   -0.709587\n",
       "2018-11-09   -0.525420\n",
       "2018-11-12   -2.427137\n",
       "2018-11-13    0.313099\n",
       "2018-11-14   -3.661677\n",
       "2018-11-15    1.603060\n",
       "2018-11-16    1.590551\n",
       "2018-11-19   -2.178947\n",
       "2018-11-20   -0.779279\n",
       "2018-11-21   -1.641349\n",
       "2018-11-23   -1.514810\n",
       "2018-11-26    0.218084\n",
       "2018-11-27    1.591750\n",
       "2018-11-28    2.382169\n",
       "2018-11-29   -1.702617\n",
       "2018-11-30   -0.948467\n",
       "2018-12-03    0.195165\n",
       "2018-12-04   -2.354239\n",
       "2018-12-06    1.723339\n",
       "2018-12-07   -2.882010\n",
       "dtype: float64"
      ]
     },
     "execution_count": 32,
     "metadata": {},
     "output_type": "execute_result"
    }
   ],
   "source": [
    "id_rtn = ((aapl['Close'] - aapl['Open'])/aapl['Open']) * 100\n",
    "id_rtn"
   ]
  },
  {
   "cell_type": "code",
   "execution_count": 33,
   "metadata": {},
   "outputs": [
    {
     "data": {
      "text/plain": [
       "<matplotlib.axes._subplots.AxesSubplot at 0x1fd7fca3518>"
      ]
     },
     "execution_count": 33,
     "metadata": {},
     "output_type": "execute_result"
    },
    {
     "data": {
      "image/png": "[encoded data removed]",
      "text/plain": [
       "<Figure size 864x576 with 1 Axes>"
      ]
     },
     "metadata": {
      "needs_background": "light"
     },
     "output_type": "display_data"
    }
   ],
   "source": [
    "id_rtn.hist(color='lightblue', figsize=(12,8))"
   ]
  },
  {
   "cell_type": "code",
   "execution_count": 34,
   "metadata": {},
   "outputs": [
    {
     "data": {
      "text/plain": [
       "Date\n",
       "2018-10-09         NaN\n",
       "2018-10-10   -0.621496\n",
       "2018-10-11   -0.850433\n",
       "2018-10-12    2.783866\n",
       "2018-10-15   -0.427715\n",
       "2018-10-16    0.722300\n",
       "2018-10-17    0.067526\n",
       "2018-10-18   -1.505494\n",
       "2018-10-19    0.944354\n",
       "2018-10-22    0.218866\n",
       "2018-10-23   -2.184451\n",
       "2018-10-24   -0.058362\n",
       "2018-10-25    1.218100\n",
       "2018-10-26   -1.774344\n",
       "2018-10-29    1.336107\n",
       "2018-10-30   -0.513575\n",
       "2018-10-31    1.678388\n",
       "2018-11-01    0.086815\n",
       "2018-11-02   -5.701556\n",
       "2018-11-05   -1.532674\n",
       "2018-11-06    0.163700\n",
       "2018-11-07    1.079647\n",
       "2018-11-08    0.014289\n",
       "2018-11-09   -1.410141\n",
       "2018-11-12   -2.675210\n",
       "2018-11-13   -1.308129\n",
       "2018-11-14    0.868750\n",
       "2018-11-15    0.851176\n",
       "2018-11-16   -0.475421\n",
       "2018-11-19   -1.824006\n",
       "2018-11-20   -4.029918\n",
       "2018-11-21    1.553848\n",
       "2018-11-23   -1.040840\n",
       "2018-11-26    1.131820\n",
       "2018-11-27   -1.781011\n",
       "2018-11-28    1.429058\n",
       "2018-11-29    0.950592\n",
       "2018-11-30    0.412136\n",
       "2018-12-03    3.292645\n",
       "2018-12-04   -2.093935\n",
       "2018-12-06   -2.790202\n",
       "2018-12-07   -0.703981\n",
       "dtype: float64"
      ]
     },
     "execution_count": 34,
     "metadata": {},
     "output_type": "execute_result"
    }
   ],
   "source": [
    "on_rtn = ((aapl['Open'] - aapl['Close'].shift(1)) / aapl['Close'].shift(1))*100\n",
    "on_rtn"
   ]
  },
  {
   "cell_type": "code",
   "execution_count": 35,
   "metadata": {},
   "outputs": [
    {
     "data": {
      "text/plain": [
       "<matplotlib.axes._subplots.AxesSubplot at 0x1fd0100f6d8>"
      ]
     },
     "execution_count": 35,
     "metadata": {},
     "output_type": "execute_result"
    },
    {
     "data": {
      "image/png": "[encoded data removed]",
      "text/plain": [
       "<Figure size 864x576 with 1 Axes>"
      ]
     },
     "metadata": {
      "needs_background": "light"
     },
     "output_type": "display_data"
    }
   ],
   "source": [
    "on_rtn.hist(color='lightblue', figsize=(12,8))"
   ]
  },
  {
   "cell_type": "code",
   "execution_count": null,
   "metadata": {},
   "outputs": [],
   "source": []
  },
  {
   "cell_type": "code",
   "execution_count": null,
   "metadata": {},
   "outputs": [],
   "source": []
  }
 ],
 "metadata": {
  "kernelspec": {
   "display_name": "Python 3",
   "language": "python",
   "name": "python3"
  },
  "language_info": {
   "codemirror_mode": {
    "name": "ipython",
    "version": 3
   },
   "file_extension": ".py",
   "mimetype": "text/x-python",
   "name": "python",
   "nbconvert_exporter": "python",
   "pygments_lexer": "ipython3",
   "version": "3.7.0"
  }
 },
 "nbformat": 4,
 "nbformat_minor": 2
}
